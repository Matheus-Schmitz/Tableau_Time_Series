{
 "cells": [
  {
   "cell_type": "markdown",
   "metadata": {
    "colab_type": "text",
    "id": "cyBKqXSka_Cq"
   },
   "source": [
    "Part 4: https://colab.research.google.com/drive/10-vxlLMWIPOkZwl7DVY5O0jl1-v_GBWy"
   ]
  },
  {
   "cell_type": "markdown",
   "metadata": {
    "colab_type": "text",
    "id": "GtU6PBB_Zvs_"
   },
   "source": [
    "Modeling sales time series with an Autoregressive RNN, which was developed specifically for such task.\n",
    "\n",
    "Model's paper: <a href=\"https://arxiv.org/abs/1704.04110\">DeepAR: Probabilistic Forecasting with Autoregressive Recurrent Networks</a>\n",
    "\n",
    "Using the **GluonTS** package to implement this DeepAR model.\n",
    "\n",
    "https://gluon-ts.mxnet.io/\n",
    "\n",
    "GluonTS is ran on the MxNet framework.\n",
    "\n",
    "\n"
   ]
  },
  {
   "cell_type": "markdown",
   "metadata": {
    "colab_type": "text",
    "id": "NHMMGY96ZeW4"
   },
   "source": [
    "## Loading Packages"
   ]
  },
  {
   "cell_type": "code",
   "execution_count": null,
   "metadata": {
    "colab": {
     "base_uri": "https://localhost:8080/",
     "height": 34
    },
    "colab_type": "code",
    "executionInfo": {
     "elapsed": 14041,
     "status": "ok",
     "timestamp": 1589144780435,
     "user": {
      "displayName": "Matheus Schmitz",
      "photoUrl": "",
      "userId": "05041072222578354690"
     },
     "user_tz": 180
    },
    "id": "O7-opxhaZvtL",
    "outputId": "b1287761-2071-48fe-cb1b-9d2188644777"
   },
   "outputs": [],
   "source": [
    "# Installing MxNet\n",
    "!pip install -q mxnet"
   ]
  },
  {
   "cell_type": "markdown",
   "metadata": {
    "colab_type": "text",
    "id": "1oDIA48QPPGG"
   },
   "source": [
    "When installing GluonTS, Pandas will be removed and reinstalled on version 0.25.3. Without this version GluonTS won't work. This also implies that this Jupyter Notebook cannot be ran on Google Colab, since Colab requires the Pandas version to be 1.0.0 or later."
   ]
  },
  {
   "cell_type": "code",
   "execution_count": null,
   "metadata": {
    "colab": {
     "base_uri": "https://localhost:8080/",
     "height": 170
    },
    "colab_type": "code",
    "executionInfo": {
     "elapsed": 21579,
     "status": "ok",
     "timestamp": 1589144793539,
     "user": {
      "displayName": "Matheus Schmitz",
      "photoUrl": "",
      "userId": "05041072222578354690"
     },
     "user_tz": 180
    },
    "id": "7O1sIm-fZvtO",
    "outputId": "187a4354-ed16-45b6-b94a-8e3ced18a444"
   },
   "outputs": [],
   "source": [
    "# Installing GluonTS\n",
    "!pip install -q gluonts"
   ]
  },
  {
   "cell_type": "code",
   "execution_count": null,
   "metadata": {
    "colab": {},
    "colab_type": "code",
    "id": "1nWPYW--ZeXA",
    "outputId": "20e31ec2-c8b9-4e51-ad36-df58b9c1045b"
   },
   "outputs": [],
   "source": [
    "# Deactivating the multiple warning messages produced by the newest versions of Pandas and Matplotlib.import sys\n",
    "import warnings\n",
    "import matplotlib.cbook\n",
    "if not sys.warnoptions:\n",
    "    warnings.simplefilter(\"ignore\")\n",
    "warnings.simplefilter(action='ignore', category=FutureWarning)\n",
    "warnings.filterwarnings(\"ignore\", category=FutureWarning)\n",
    "warnings.filterwarnings(\"ignore\", category=matplotlib.cbook.mplDeprecation)\n",
    "\n",
    "# Data manipulation imports\n",
    "import math\n",
    "import numpy as np\n",
    "import pandas as pd\n",
    "import itertools\n",
    "from pandas import Series\n",
    "from pandas.tseries.offsets import DateOffset\n",
    "\n",
    "# Data visualization imports\n",
    "import matplotlib.pyplot as plt\n",
    "import matplotlib as m\n",
    "import seaborn as sns\n",
    "\n",
    "# Predictive modeling imports\n",
    "import statsmodels\n",
    "import statsmodels.api as sm\n",
    "import statsmodels.tsa.api as smt\n",
    "import statsmodels.stats as sms\n",
    "from statsmodels.tsa.seasonal import seasonal_decompose\n",
    "from statsmodels.tsa.stattools import adfuller\n",
    "\n",
    "# MxNet / GluonTS\n",
    "import mxnet\n",
    "import gluonts\n",
    "from mxnet import gpu, cpu\n",
    "from mxnet.context import num_gpus\n",
    "from gluonts.dataset.common import ListDataset\n",
    "from gluonts.trainer import Trainer\n",
    "from gluonts.dataset.util import to_pandas\n",
    "from gluonts.model.deepar import DeepAREstimator\n",
    "from gluonts.distribution.neg_binomial import NegativeBinomialOutput\n",
    "from gluonts.evaluation.backtest import make_evaluation_predictions\n",
    "from gluonts.evaluation import Evaluator\n",
    "\n",
    "# Graphics formatting imports\n",
    "m.rcParams['text.color'] = 'k'\n",
    "from matplotlib.pylab import rcParams \n",
    "%matplotlib inline"
   ]
  },
  {
   "cell_type": "markdown",
   "metadata": {
    "colab_type": "text",
    "id": "yJvCCC8fA_V-"
   },
   "source": [
    "##Data"
   ]
  },
  {
   "cell_type": "markdown",
   "metadata": {
    "colab_type": "text",
    "id": "OVVN4hfnssRt"
   },
   "source": [
    "The dataset used is available publicly in Tableau's website, and represents the historic sales from the startup in which HappyMoonVC is considering investing. \n",
    "\n",
    "\n",
    "Dataset source:\n",
    "https://community.tableau.com/docs/DOC-1236\n",
    "\n",
    "\n",
    "\n",
    "HappyMoonVC wants to analyze and predict all data the in the \"technology\" category"
   ]
  },
  {
   "cell_type": "code",
   "execution_count": null,
   "metadata": {
    "colab": {},
    "colab_type": "code",
    "id": "ooszLYOnqGOm"
   },
   "outputs": [],
   "source": [
    "# Load data\n",
    "data = pd.read_csv('https://raw.githubusercontent.com/Matheus-Schmitz/Datasets/master/dataset6.csv')"
   ]
  },
  {
   "cell_type": "code",
   "execution_count": null,
   "metadata": {
    "colab": {
     "base_uri": "https://localhost:8080/",
     "height": 34
    },
    "colab_type": "code",
    "executionInfo": {
     "elapsed": 2107,
     "status": "ok",
     "timestamp": 1589121901042,
     "user": {
      "displayName": "Matheus Schmitz",
      "photoUrl": "",
      "userId": "05041072222578354690"
     },
     "user_tz": 180
    },
    "id": "MaHunTAyYGKV",
    "outputId": "8aded9f8-62f6-4ee8-f3e1-f0f87a2302e7"
   },
   "outputs": [],
   "source": [
    "# Shape\n",
    "data.shape"
   ]
  },
  {
   "cell_type": "code",
   "execution_count": null,
   "metadata": {
    "colab": {
     "base_uri": "https://localhost:8080/",
     "height": 102
    },
    "colab_type": "code",
    "executionInfo": {
     "elapsed": 2094,
     "status": "ok",
     "timestamp": 1589121901042,
     "user": {
      "displayName": "Matheus Schmitz",
      "photoUrl": "",
      "userId": "05041072222578354690"
     },
     "user_tz": 180
    },
    "id": "8w9nJQEKYGKX",
    "outputId": "2686af47-88eb-48ae-b6e0-324751e04f56"
   },
   "outputs": [],
   "source": [
    "# Columns\n",
    "data.columns"
   ]
  },
  {
   "cell_type": "markdown",
   "metadata": {
    "colab_type": "text",
    "id": "HlAJolW-qmCF"
   },
   "source": [
    "## Exploratory Analysis"
   ]
  },
  {
   "cell_type": "code",
   "execution_count": null,
   "metadata": {
    "colab": {
     "base_uri": "https://localhost:8080/"
    },
    "colab_type": "code",
    "executionInfo": {
     "elapsed": 2083,
     "status": "ok",
     "timestamp": 1589121901043,
     "user": {
      "displayName": "Matheus Schmitz",
      "photoUrl": "",
      "userId": "05041072222578354690"
     },
     "user_tz": 180
    },
    "id": "yeHykdeBqjgm",
    "outputId": "44bc95e5-7bb0-4e6d-c394-e377eb0d1a1e"
   },
   "outputs": [],
   "source": [
    "# Visualizing data\n",
    "data.head()"
   ]
  },
  {
   "cell_type": "code",
   "execution_count": null,
   "metadata": {
    "colab": {
     "base_uri": "https://localhost:8080/"
    },
    "colab_type": "code",
    "executionInfo": {
     "elapsed": 2400,
     "status": "ok",
     "timestamp": 1589121901372,
     "user": {
      "displayName": "Matheus Schmitz",
      "photoUrl": "",
      "userId": "05041072222578354690"
     },
     "user_tz": 180
    },
    "id": "1fRF7oXYqxPg",
    "outputId": "91613ec8-a6ca-4860-eb55-472eeca0ff4a"
   },
   "outputs": [],
   "source": [
    "# Statistic summaries\n",
    "data.describe()"
   ]
  },
  {
   "cell_type": "code",
   "execution_count": null,
   "metadata": {
    "colab": {
     "base_uri": "https://localhost:8080/"
    },
    "colab_type": "code",
    "executionInfo": {
     "elapsed": 2386,
     "status": "ok",
     "timestamp": 1589121901373,
     "user": {
      "displayName": "Matheus Schmitz",
      "photoUrl": "",
      "userId": "05041072222578354690"
     },
     "user_tz": 180
    },
    "id": "ZOBwbGoUqyp2",
    "outputId": "0613f71e-128d-4759-bd60-8a04c8b9f585"
   },
   "outputs": [],
   "source": [
    "# Checking for missing values\n",
    "data.info()"
   ]
  },
  {
   "cell_type": "code",
   "execution_count": null,
   "metadata": {
    "colab": {},
    "colab_type": "code",
    "id": "772y3fPiqz9p"
   },
   "outputs": [],
   "source": [
    "# Setting column names to lowercase\n",
    "data.columns = map(str.lower, data.columns)"
   ]
  },
  {
   "cell_type": "code",
   "execution_count": null,
   "metadata": {
    "colab": {},
    "colab_type": "code",
    "id": "CmLZSp6tq31V"
   },
   "outputs": [],
   "source": [
    "# Substituting espaces and dashes in the column names by underscores\n",
    "data.columns = data.columns.str.replace(\" \", \"_\")\n",
    "data.columns = data.columns.str.replace(\"-\", \"_\")"
   ]
  },
  {
   "cell_type": "code",
   "execution_count": null,
   "metadata": {
    "colab": {
     "base_uri": "https://localhost:8080/"
    },
    "colab_type": "code",
    "executionInfo": {
     "elapsed": 2350,
     "status": "ok",
     "timestamp": 1589121901376,
     "user": {
      "displayName": "Matheus Schmitz",
      "photoUrl": "",
      "userId": "05041072222578354690"
     },
     "user_tz": 180
    },
    "id": "j7S1C7dAq44N",
    "outputId": "e4a34ffc-85a5-4ad3-8e8e-388be2017377"
   },
   "outputs": [],
   "source": [
    "# Checking\n",
    "data.columns"
   ]
  },
  {
   "cell_type": "code",
   "execution_count": null,
   "metadata": {
    "colab": {
     "base_uri": "https://localhost:8080/"
    },
    "colab_type": "code",
    "executionInfo": {
     "elapsed": 2338,
     "status": "ok",
     "timestamp": 1589121901377,
     "user": {
      "displayName": "Matheus Schmitz",
      "photoUrl": "",
      "userId": "05041072222578354690"
     },
     "user_tz": 180
    },
    "id": "lIoEiz8tq517",
    "outputId": "66dc2423-0892-4f81-fe78-11a3b3c4baeb"
   },
   "outputs": [],
   "source": [
    "# Assess the unique values per column (to know whether a variable is categorical or not)\n",
    "for c in data.columns:\n",
    "    if len(set(data[c])) < 20:\n",
    "        print(c,set(data[c]))"
   ]
  },
  {
   "cell_type": "code",
   "execution_count": null,
   "metadata": {
    "colab": {},
    "colab_type": "code",
    "id": "5g-z2RPCq7D0"
   },
   "outputs": [],
   "source": [
    "# Splitting data by category\n",
    "df_technology = data.loc[data['category'] == 'Technology']\n",
    "df_furniture = data.loc[data['category'] == 'Furniture']\n",
    "df_office = data.loc[data['category'] == 'Office Supplies']"
   ]
  },
  {
   "cell_type": "code",
   "execution_count": null,
   "metadata": {
    "colab": {},
    "colab_type": "code",
    "id": "WFaOVOXMq9ig"
   },
   "outputs": [],
   "source": [
    "# Aggregating sales by order date\n",
    "ts_technology = df_technology.groupby('order_date')['sales'].sum().reset_index()\n",
    "ts_furniture = df_furniture.groupby('order_date')['sales'].sum().reset_index()\n",
    "ts_office = df_office.groupby('order_date')['sales'].sum().reset_index()"
   ]
  },
  {
   "cell_type": "code",
   "execution_count": null,
   "metadata": {
    "colab": {
     "base_uri": "https://localhost:8080/"
    },
    "colab_type": "code",
    "executionInfo": {
     "elapsed": 2299,
     "status": "ok",
     "timestamp": 1589121901378,
     "user": {
      "displayName": "Matheus Schmitz",
      "photoUrl": "",
      "userId": "05041072222578354690"
     },
     "user_tz": 180
    },
    "id": "MbIjMvgDrCho",
    "outputId": "02c52079-9053-4077-cd0e-03937f3d39e7"
   },
   "outputs": [],
   "source": [
    "# Checking dataset\n",
    "ts_technology"
   ]
  },
  {
   "cell_type": "code",
   "execution_count": null,
   "metadata": {
    "colab": {},
    "colab_type": "code",
    "id": "5RME1pUFrEXx"
   },
   "outputs": [],
   "source": [
    "# Setting the date as index\n",
    "ts_technology = ts_technology.set_index('order_date')\n",
    "ts_furniture = ts_furniture.set_index('order_date')\n",
    "ts_office = ts_office.set_index('order_date')"
   ]
  },
  {
   "cell_type": "code",
   "execution_count": null,
   "metadata": {
    "colab": {
     "base_uri": "https://localhost:8080/"
    },
    "colab_type": "code",
    "executionInfo": {
     "elapsed": 2272,
     "status": "ok",
     "timestamp": 1589121901379,
     "user": {
      "displayName": "Matheus Schmitz",
      "photoUrl": "",
      "userId": "05041072222578354690"
     },
     "user_tz": 180
    },
    "id": "flvfjxedrFwt",
    "outputId": "8c627795-83e2-41b1-8205-e6ee44ca5c2a"
   },
   "outputs": [],
   "source": [
    "# Visualizing the series\n",
    "ts_technology"
   ]
  },
  {
   "cell_type": "code",
   "execution_count": null,
   "metadata": {
    "colab": {
     "base_uri": "https://localhost:8080/"
    },
    "colab_type": "code",
    "executionInfo": {
     "elapsed": 2806,
     "status": "ok",
     "timestamp": 1589121901931,
     "user": {
      "displayName": "Matheus Schmitz",
      "photoUrl": "",
      "userId": "05041072222578354690"
     },
     "user_tz": 180
    },
    "id": "PgwH5mnUrG7B",
    "outputId": "705c0513-39b7-4956-996c-2a377fd81124"
   },
   "outputs": [],
   "source": [
    "# Plotting sales in the technology category\n",
    "sales_technology = ts_technology[['sales']]\n",
    "ax = sales_technology.plot(color = 'b', figsize = (18,6))\n",
    "plt.xlabel(\"Data\")\n",
    "plt.ylabel('Sales')\n",
    "plt.title(\"Technology Category Sales\")\n",
    "plt.show()"
   ]
  },
  {
   "cell_type": "code",
   "execution_count": null,
   "metadata": {
    "colab": {
     "base_uri": "https://localhost:8080/"
    },
    "colab_type": "code",
    "executionInfo": {
     "elapsed": 3708,
     "status": "ok",
     "timestamp": 1589121902854,
     "user": {
      "displayName": "Matheus Schmitz",
      "photoUrl": "",
      "userId": "05041072222578354690"
     },
     "user_tz": 180
    },
    "id": "5ySNJSParJKe",
    "outputId": "83af5e42-8fb7-4e7c-9b09-ab14f32d1537"
   },
   "outputs": [],
   "source": [
    "# Plotting sales in the furniture category\n",
    "sales_furniture = ts_furniture[['sales']]\n",
    "ax = sales_furniture.plot(color = 'g', figsize = (18,6))\n",
    "plt.xlabel(\"Data\")\n",
    "plt.ylabel('Sales')\n",
    "plt.title(\"Furniture Category Sales\")\n",
    "plt.show()"
   ]
  },
  {
   "cell_type": "code",
   "execution_count": null,
   "metadata": {
    "colab": {
     "base_uri": "https://localhost:8080/"
    },
    "colab_type": "code",
    "executionInfo": {
     "elapsed": 3687,
     "status": "ok",
     "timestamp": 1589121902855,
     "user": {
      "displayName": "Matheus Schmitz",
      "photoUrl": "",
      "userId": "05041072222578354690"
     },
     "user_tz": 180
    },
    "id": "U9ULXuxzrK7F",
    "outputId": "24ecd768-8d17-4635-d8d6-e5babb78cefc"
   },
   "outputs": [],
   "source": [
    "# Plotting sales in the office category\n",
    "sales_office = ts_office[['sales']]\n",
    "ax = sales_office.plot(color = 'r', figsize = (18,6))\n",
    "plt.xlabel(\"Data\")\n",
    "plt.ylabel('Sales')\n",
    "plt.title(\"Office Category Sales\")\n",
    "plt.show()"
   ]
  },
  {
   "cell_type": "markdown",
   "metadata": {
    "colab_type": "text",
    "id": "SzZ0jbSpr1pW"
   },
   "source": [
    "Adjusting the index type to DateTimeIndex (which characterizes a time series), so that it's possible to aggregate monthly and obtain the mean monthly sales."
   ]
  },
  {
   "cell_type": "code",
   "execution_count": null,
   "metadata": {
    "colab": {
     "base_uri": "https://localhost:8080/"
    },
    "colab_type": "code",
    "executionInfo": {
     "elapsed": 3668,
     "status": "ok",
     "timestamp": 1589121902856,
     "user": {
      "displayName": "Matheus Schmitz",
      "photoUrl": "",
      "userId": "05041072222578354690"
     },
     "user_tz": 180
    },
    "id": "bAjHd-aarMDo",
    "outputId": "172b736a-53ea-4123-e888-95b49dcdc654"
   },
   "outputs": [],
   "source": [
    "# Checking index type\n",
    "type(sales_technology.index)"
   ]
  },
  {
   "cell_type": "code",
   "execution_count": null,
   "metadata": {
    "colab": {},
    "colab_type": "code",
    "id": "_8qKCKgNr6SP"
   },
   "outputs": [],
   "source": [
    "# Changing index type\n",
    "sales_technology.index = pd.to_datetime(sales_technology.index)\n",
    "sales_furniture.index = pd.to_datetime(sales_furniture.index)\n",
    "sales_office.index = pd.to_datetime(sales_office.index)"
   ]
  },
  {
   "cell_type": "code",
   "execution_count": null,
   "metadata": {
    "colab": {
     "base_uri": "https://localhost:8080/"
    },
    "colab_type": "code",
    "executionInfo": {
     "elapsed": 3640,
     "status": "ok",
     "timestamp": 1589121902857,
     "user": {
      "displayName": "Matheus Schmitz",
      "photoUrl": "",
      "userId": "05041072222578354690"
     },
     "user_tz": 180
    },
    "id": "Xve3wtmYr7UY",
    "outputId": "ee66da05-9844-4941-a118-ed0c2f859d4e"
   },
   "outputs": [],
   "source": [
    "# Checking index type\n",
    "type(sales_technology.index)"
   ]
  },
  {
   "cell_type": "code",
   "execution_count": null,
   "metadata": {
    "colab": {},
    "colab_type": "code",
    "id": "_2bdg3rtr8SE"
   },
   "outputs": [],
   "source": [
    "# Resampling data to a monthly frequency\n",
    "# Done by setting the month as index and then calculating the mean of daily sales over the month\n",
    "sales_technology_monthly_mean = sales_technology['sales'].resample('MS').mean()\n",
    "sales_furniture_monthly_mean = sales_furniture['sales'].resample('MS').mean()\n",
    "sales_office_monthly_mean = sales_office['sales'].resample('MS').mean()"
   ]
  },
  {
   "cell_type": "code",
   "execution_count": null,
   "metadata": {
    "colab": {
     "base_uri": "https://localhost:8080/"
    },
    "colab_type": "code",
    "executionInfo": {
     "elapsed": 3602,
     "status": "ok",
     "timestamp": 1589121902858,
     "user": {
      "displayName": "Matheus Schmitz",
      "photoUrl": "",
      "userId": "05041072222578354690"
     },
     "user_tz": 180
    },
    "id": "6jMnl56Or9pr",
    "outputId": "e0b91a49-16f5-4d8a-a7fc-d9cba4af3789"
   },
   "outputs": [],
   "source": [
    "# Verifying the resulting type\n",
    "type(sales_technology_monthly_mean)"
   ]
  },
  {
   "cell_type": "code",
   "execution_count": null,
   "metadata": {
    "colab": {
     "base_uri": "https://localhost:8080/"
    },
    "colab_type": "code",
    "executionInfo": {
     "elapsed": 3587,
     "status": "ok",
     "timestamp": 1589121902858,
     "user": {
      "displayName": "Matheus Schmitz",
      "photoUrl": "",
      "userId": "05041072222578354690"
     },
     "user_tz": 180
    },
    "id": "sq6eDIQqr-ld",
    "outputId": "f36a1a4c-adcf-41e9-8d94-dc606d79a54e"
   },
   "outputs": [],
   "source": [
    "# Checking the data\n",
    "sales_technology_monthly_mean"
   ]
  },
  {
   "cell_type": "code",
   "execution_count": null,
   "metadata": {
    "colab": {
     "base_uri": "https://localhost:8080/"
    },
    "colab_type": "code",
    "executionInfo": {
     "elapsed": 4742,
     "status": "ok",
     "timestamp": 1589121904031,
     "user": {
      "displayName": "Matheus Schmitz",
      "photoUrl": "",
      "userId": "05041072222578354690"
     },
     "user_tz": 180
    },
    "id": "PhjxwJh9r_v5",
    "outputId": "566512a8-012f-46e5-e8b9-c264449e8303"
   },
   "outputs": [],
   "source": [
    "# Plotting the monthly mean daily sales of technology products\n",
    "sales_technology_monthly_mean.plot(figsize = (18, 6), color = 'blue')\n",
    "plt.xlabel(\"Purchase Date\")\n",
    "plt.ylabel('Sales')\n",
    "plt.title(\"Technology: Average Daily Sales per Month\")\n",
    "plt.show()"
   ]
  },
  {
   "cell_type": "code",
   "execution_count": null,
   "metadata": {
    "colab": {
     "base_uri": "https://localhost:8080/"
    },
    "colab_type": "code",
    "executionInfo": {
     "elapsed": 4722,
     "status": "ok",
     "timestamp": 1589121904031,
     "user": {
      "displayName": "Matheus Schmitz",
      "photoUrl": "",
      "userId": "05041072222578354690"
     },
     "user_tz": 180
    },
    "id": "cjNS-lyZsBYk",
    "outputId": "ccdd0655-1316-44e4-b21a-c61a6f9e1787"
   },
   "outputs": [],
   "source": [
    "# Plotting the monthly mean daily sales of furniture products\n",
    "sales_furniture_monthly_mean.plot(figsize = (18, 6), color = 'green')\n",
    "plt.xlabel(\"Purchase Date\")\n",
    "plt.ylabel('Sales')\n",
    "plt.title(\"Furniture: Average Daily Sales per Month\")\n",
    "plt.show()"
   ]
  },
  {
   "cell_type": "code",
   "execution_count": null,
   "metadata": {
    "colab": {
     "base_uri": "https://localhost:8080/"
    },
    "colab_type": "code",
    "executionInfo": {
     "elapsed": 4698,
     "status": "ok",
     "timestamp": 1589121904032,
     "user": {
      "displayName": "Matheus Schmitz",
      "photoUrl": "",
      "userId": "05041072222578354690"
     },
     "user_tz": 180
    },
    "id": "_1vPsSq8sCyJ",
    "outputId": "cacdea42-e625-4df5-9ffb-3f6eba4d325c"
   },
   "outputs": [],
   "source": [
    "# Plotting the monthly mean daily sales of office products\n",
    "sales_office_monthly_mean.plot(figsize = (20, 6), color = 'red')\n",
    "plt.xlabel(\"Purchase Date\")\n",
    "plt.ylabel('Sales')\n",
    "plt.title(\"Office: Average Daily Sales per Month\")\n",
    "plt.show()"
   ]
  },
  {
   "cell_type": "markdown",
   "metadata": {
    "colab_type": "text",
    "id": "hbgTCs-OsFx8"
   },
   "source": [
    "Decomposing the series to analyze its componentes."
   ]
  },
  {
   "cell_type": "code",
   "execution_count": null,
   "metadata": {
    "colab": {
     "base_uri": "https://localhost:8080/"
    },
    "colab_type": "code",
    "executionInfo": {
     "elapsed": 6138,
     "status": "ok",
     "timestamp": 1589121905493,
     "user": {
      "displayName": "Matheus Schmitz",
      "photoUrl": "",
      "userId": "05041072222578354690"
     },
     "user_tz": 180
    },
    "id": "qWMNsvGHsDsu",
    "outputId": "b74a4290-8d8b-4158-f513-a9ecfdae3dd4"
   },
   "outputs": [],
   "source": [
    "# Decomposing the time series with the monthly mean daily sales of technology products\n",
    "decomposition = seasonal_decompose(sales_technology_monthly_mean, freq = 12)\n",
    "rcParams['figure.figsize'] = 18, 12\n",
    "\n",
    "# Components\n",
    "trend = decomposition.trend\n",
    "seasonal = decomposition.seasonal\n",
    "residual = decomposition.resid\n",
    "\n",
    "# Plot\n",
    "plt.subplot(411)\n",
    "plt.plot(sales_technology_monthly_mean, label = 'Original Series')\n",
    "plt.legend(loc = 'best')\n",
    "plt.subplot(412)\n",
    "plt.plot(trend, label = 'Trend')\n",
    "plt.legend(loc = 'best')\n",
    "plt.subplot(413)\n",
    "plt.plot(seasonal, label = 'Seasonality')\n",
    "plt.legend(loc = 'best')\n",
    "plt.subplot(414)\n",
    "plt.plot(residual, label = 'Residuals')\n",
    "plt.legend(loc = 'best')\n",
    "plt.tight_layout()"
   ]
  },
  {
   "cell_type": "markdown",
   "metadata": {
    "colab_type": "text",
    "id": "RVl1ZG3nsMmo"
   },
   "source": [
    "Stationarity test:\n",
    "\n"
   ]
  },
  {
   "cell_type": "code",
   "execution_count": null,
   "metadata": {
    "colab": {},
    "colab_type": "code",
    "id": "jCjwt5PLsIS7"
   },
   "outputs": [],
   "source": [
    "# Function to test stationarity\n",
    "def stationarity_test(serie):\n",
    "    \n",
    "    # Calculating moving statistics\n",
    "    rolmean = serie.rolling(window = 12).mean()\n",
    "    rolstd = serie.rolling(window = 12).std()\n",
    "\n",
    "    # Plot of moving statistics\n",
    "    orig = plt.plot(serie, color = 'blue', label = 'Original')\n",
    "    mean = plt.plot(rolmean, color = 'red', label = 'Moving Average')\n",
    "    std = plt.plot(rolstd, color = 'black', label = 'Standard Deviation')\n",
    "    plt.legend(loc = 'best')\n",
    "    plt.title('Moving Statistics - Mean and Standard Deviation')\n",
    "    plt.show()\n",
    "    \n",
    "    # Dickey-Fuller test:\n",
    "    # Print\n",
    "    print('\\nDickey-Fuller Test Result:\\n')\n",
    "\n",
    "    # Test\n",
    "    dftest = adfuller(serie, autolag = 'AIC')\n",
    "\n",
    "    # Formatting the output\n",
    "    df_output = pd.Series(dftest[0:4], index = ['Test Statistic',\n",
    "                                               'P-value',\n",
    "                                               'Number of Lags Considered',\n",
    "                                               'Number of Observations Used'])\n",
    "\n",
    "    # Loop through each item in the test output\n",
    "    for key, value in dftest[4].items():\n",
    "        df_output['Critical Value (%s)'%key] = value\n",
    "\n",
    "    # Print\n",
    "    print (df_output)\n",
    "    \n",
    "    # Testing p-value\n",
    "    print ('\\nConclusion:')\n",
    "    if df_output[1] > 0.05:\n",
    "        print('\\nThe p-value is above 0.05, therefore there are no evidences to reject the null hypothesis.')\n",
    "        print('This series probably is not stationary.')      \n",
    "    else:\n",
    "        print('\\nThe p-value is below 0.05, therefore there are evidences to reject the null hypothesis.')\n",
    "        print('This series probably is stationary.')         "
   ]
  },
  {
   "cell_type": "code",
   "execution_count": null,
   "metadata": {
    "colab": {
     "base_uri": "https://localhost:8080/"
    },
    "colab_type": "code",
    "executionInfo": {
     "elapsed": 6099,
     "status": "ok",
     "timestamp": 1589121905494,
     "user": {
      "displayName": "Matheus Schmitz",
      "photoUrl": "",
      "userId": "05041072222578354690"
     },
     "user_tz": 180
    },
    "id": "8YqjuuuYsOWR",
    "outputId": "c52c69d0-5384-42a3-e6f7-4325d24ed398"
   },
   "outputs": [],
   "source": [
    "# Verifying if the series is stationary\n",
    "stationarity_test(sales_technology_monthly_mean)"
   ]
  },
  {
   "cell_type": "markdown",
   "metadata": {
    "colab_type": "text",
    "id": "awmoL66Q9YHK"
   },
   "source": [
    "## Train-Test Split"
   ]
  },
  {
   "cell_type": "code",
   "execution_count": null,
   "metadata": {
    "colab": {},
    "colab_type": "code",
    "id": "pbLJ0zsJ9YHL"
   },
   "outputs": [],
   "source": [
    "# Original series\n",
    "X = sales_technology_monthly_mean"
   ]
  },
  {
   "cell_type": "code",
   "execution_count": null,
   "metadata": {
    "colab": {
     "base_uri": "https://localhost:8080/",
     "height": 663
    },
    "colab_type": "code",
    "executionInfo": {
     "elapsed": 6039,
     "status": "ok",
     "timestamp": 1589121905496,
     "user": {
      "displayName": "Matheus Schmitz",
      "photoUrl": "",
      "userId": "05041072222578354690"
     },
     "user_tz": 180
    },
    "id": "Aea_8FpV9YHN",
    "outputId": "2ea90bdd-9f21-44f1-a18d-a2f34feaa538"
   },
   "outputs": [],
   "source": [
    "# Using the first 3 years (first 36 rows) for training\n",
    "X[:-12]"
   ]
  },
  {
   "cell_type": "code",
   "execution_count": null,
   "metadata": {
    "colab": {
     "base_uri": "https://localhost:8080/",
     "height": 255
    },
    "colab_type": "code",
    "executionInfo": {
     "elapsed": 6023,
     "status": "ok",
     "timestamp": 1589121905496,
     "user": {
      "displayName": "Matheus Schmitz",
      "photoUrl": "",
      "userId": "05041072222578354690"
     },
     "user_tz": 180
    },
    "id": "BCRGhM__9YHP",
    "outputId": "f2b7acbe-057f-4baf-abf0-2d7dcc4a9b6e"
   },
   "outputs": [],
   "source": [
    "# Using the last year (last 12 rows) for testing\n",
    "X[-12:]"
   ]
  },
  {
   "cell_type": "code",
   "execution_count": null,
   "metadata": {
    "colab": {},
    "colab_type": "code",
    "id": "ft_RxSth9YHR"
   },
   "outputs": [],
   "source": [
    "# Train-test split\n",
    "training, testing = np.array(X[:-12]), np.array(X[-12:])"
   ]
  },
  {
   "cell_type": "code",
   "execution_count": null,
   "metadata": {
    "colab": {},
    "colab_type": "code",
    "id": "V9yTdQZk9YHT"
   },
   "outputs": [],
   "source": [
    "# Ajusta o shape, pois agora não temos um objeto pd.Series, \n",
    "# mas sim um array NumPy, que é necessário para treinar o modelo LSTM\n",
    "trainset = training.reshape(-1,1)\n",
    "testset = testing.reshape(-1,1)"
   ]
  },
  {
   "cell_type": "code",
   "execution_count": null,
   "metadata": {
    "colab": {
     "base_uri": "https://localhost:8080/",
     "height": 34
    },
    "colab_type": "code",
    "executionInfo": {
     "elapsed": 725,
     "status": "ok",
     "timestamp": 1589129981617,
     "user": {
      "displayName": "Matheus Schmitz",
      "photoUrl": "",
      "userId": "05041072222578354690"
     },
     "user_tz": 180
    },
    "id": "tEcNlMX99YHV",
    "outputId": "776557d9-307e-4d6d-cdf4-6887e77e9f58"
   },
   "outputs": [],
   "source": [
    "len(trainset)"
   ]
  },
  {
   "cell_type": "code",
   "execution_count": null,
   "metadata": {
    "colab": {
     "base_uri": "https://localhost:8080/",
     "height": 170
    },
    "colab_type": "code",
    "executionInfo": {
     "elapsed": 698,
     "status": "ok",
     "timestamp": 1589129995520,
     "user": {
      "displayName": "Matheus Schmitz",
      "photoUrl": "",
      "userId": "05041072222578354690"
     },
     "user_tz": 180
    },
    "id": "X_RU2eauhuYj",
    "outputId": "a8c32d48-c581-4ab7-cd89-a0e6734c7e4e"
   },
   "outputs": [],
   "source": [
    "training"
   ]
  },
  {
   "cell_type": "code",
   "execution_count": null,
   "metadata": {
    "colab": {
     "base_uri": "https://localhost:8080/",
     "height": 629
    },
    "colab_type": "code",
    "executionInfo": {
     "elapsed": 5961,
     "status": "ok",
     "timestamp": 1589121905498,
     "user": {
      "displayName": "Matheus Schmitz",
      "photoUrl": "",
      "userId": "05041072222578354690"
     },
     "user_tz": 180
    },
    "id": "T0ns50fK9YHX",
    "outputId": "261c28b8-2ff0-457b-c0a6-95a25bd87a9f"
   },
   "outputs": [],
   "source": [
    "trainset"
   ]
  },
  {
   "cell_type": "code",
   "execution_count": null,
   "metadata": {
    "colab": {
     "base_uri": "https://localhost:8080/",
     "height": 34
    },
    "colab_type": "code",
    "executionInfo": {
     "elapsed": 5945,
     "status": "ok",
     "timestamp": 1589121905499,
     "user": {
      "displayName": "Matheus Schmitz",
      "photoUrl": "",
      "userId": "05041072222578354690"
     },
     "user_tz": 180
    },
    "id": "v1CxVaTm9YHZ",
    "outputId": "6495b961-c1ba-4179-e38a-722b59cf3743"
   },
   "outputs": [],
   "source": [
    "len(testset)"
   ]
  },
  {
   "cell_type": "code",
   "execution_count": null,
   "metadata": {
    "colab": {
     "base_uri": "https://localhost:8080/",
     "height": 221
    },
    "colab_type": "code",
    "executionInfo": {
     "elapsed": 5926,
     "status": "ok",
     "timestamp": 1589121905499,
     "user": {
      "displayName": "Matheus Schmitz",
      "photoUrl": "",
      "userId": "05041072222578354690"
     },
     "user_tz": 180
    },
    "id": "0Ao8IK039YHc",
    "outputId": "4db47ff1-d6e6-41fb-dd5a-1ac783ddcda4"
   },
   "outputs": [],
   "source": [
    "testset"
   ]
  },
  {
   "cell_type": "markdown",
   "metadata": {
    "colab_type": "text",
    "id": "2YbascVrZvuw"
   },
   "source": [
    "## GluonTS"
   ]
  },
  {
   "cell_type": "code",
   "execution_count": null,
   "metadata": {
    "colab": {},
    "colab_type": "code",
    "id": "FrDB-2EZZvvP"
   },
   "outputs": [],
   "source": [
    "# Function\n",
    "def plot_forecast(predictor, test_data):\n",
    "    for test_entry, forecast in zip(test_data, predictor.predict(test_data)):\n",
    "        to_pandas(test_entry).plot(linewidth = 2)\n",
    "        forecast.plot(color = 'g', prediction_intervals = [50.0, 90.0])\n",
    "    plt.grid(which = 'both')"
   ]
  },
  {
   "cell_type": "markdown",
   "metadata": {
    "colab_type": "text",
    "id": "d1FBFPN6ZvvR"
   },
   "source": [
    "\n",
    "\n",
    "**Preparing the Dataset for GluonTS**\n",
    "\n",
    "GluonTS doesn't require a specific format for the inputed data. The only requiresments are iterable data and having fields named \"start\" and \"target\", where \"start\" represents the first point on the series index (the date), and \"target\" represents the series values.\n",
    "This is done with the `gluonts.dataset.common.ListDataset` class. Here **start** is `pandas.index` and **target** is an iterable with the values on the sales column."
   ]
  },
  {
   "cell_type": "code",
   "execution_count": null,
   "metadata": {
    "colab": {},
    "colab_type": "code",
    "id": "nqE1kVIVZvvS"
   },
   "outputs": [],
   "source": [
    "# Training dataset\n",
    "training_data = ListDataset([{\"start\": trainset.index[0], \n",
    "                              \"target\": trainset.sales[: \"2016-12-01\"]}], \n",
    "                            freq = \"M\")"
   ]
  },
  {
   "cell_type": "code",
   "execution_count": null,
   "metadata": {
    "colab": {},
    "colab_type": "code",
    "id": "ekvbuvweZvvV"
   },
   "outputs": [],
   "source": [
    "# Testing dataset\n",
    "test_data = ListDataset([{\"start\": testset.index[0], \n",
    "                           \"target\": testset.sales[:\"2017-12-01\"]}], \n",
    "                        freq = \"M\")"
   ]
  },
  {
   "cell_type": "code",
   "execution_count": null,
   "metadata": {
    "colab": {},
    "colab_type": "code",
    "id": "6Hnucv_7ZvvY",
    "outputId": "c9c8fb21-d0d4-47d7-83eb-53f5ca510929"
   },
   "outputs": [],
   "source": [
    "# Creating model\n",
    "# https://gluon-ts.mxnet.io/api/gluonts/gluonts.model.deepar.html\n",
    "gluonts_model = DeepAREstimator(freq = \"M\", \n",
    "                                 prediction_length = 12, \n",
    "                                 distr_output = NegativeBinomialOutput(),\n",
    "                                 num_layers = 2,\n",
    "                                 trainer = Trainer(learning_rate = 1e-3, \n",
    "                                                   epochs = 500,\n",
    "                                                   num_batches_per_epoch = 50,\n",
    "                                                   batch_size = 32))"
   ]
  },
  {
   "cell_type": "code",
   "execution_count": null,
   "metadata": {
    "colab": {},
    "colab_type": "code",
    "id": "Uw94gj2wZvva",
    "outputId": "ecc45ffd-70e4-49be-de87-2c8aedff4573"
   },
   "outputs": [],
   "source": [
    "# Training model\n",
    "gluonts_model_predictor = gluonts_model.train(training_data = training_data)"
   ]
  },
  {
   "cell_type": "code",
   "execution_count": null,
   "metadata": {
    "colab": {},
    "colab_type": "code",
    "id": "RlTVyHZHZvvd",
    "outputId": "b59b461a-afd3-4d0b-f81c-92036ae87175"
   },
   "outputs": [],
   "source": [
    "# Plotting prediction\n",
    "plot_forecast(predictor = gluonts_model_predictor, test_data = test_data)"
   ]
  },
  {
   "cell_type": "code",
   "execution_count": null,
   "metadata": {
    "colab": {},
    "colab_type": "code",
    "id": "xDtR5cWBZvvi"
   },
   "outputs": [],
   "source": [
    "# Predictions with test data\n",
    "forecast_it, ts_it = make_evaluation_predictions(dataset = test_data, \n",
    "                                                 predictor = gluonts_model_predictor, \n",
    "                                                 num_samples = 12)"
   ]
  },
  {
   "cell_type": "code",
   "execution_count": null,
   "metadata": {
    "colab": {},
    "colab_type": "code",
    "id": "bKRbftT-Zvvk",
    "outputId": "cd2e9c3e-bafc-4807-b1d0-ca71a7bd4915"
   },
   "outputs": [],
   "source": [
    "# Extract metrics\n",
    "aggregate_metrics, item_metrics = Evaluator()(ts_it, forecast_it, num_series = len(test_data))"
   ]
  },
  {
   "cell_type": "code",
   "execution_count": null,
   "metadata": {
    "colab": {},
    "colab_type": "code",
    "id": "NnEQOHD4Zvvq",
    "outputId": "026ab617-d874-4aff-b7a3-d5a6ce908e19"
   },
   "outputs": [],
   "source": [
    "# Visualize metrics\n",
    "aggregate_metrics"
   ]
  },
  {
   "cell_type": "markdown",
   "metadata": {
    "colab_type": "text",
    "id": "3ag6w11QZvvt"
   },
   "source": [
    "Model comparison:\n",
    "\n",
    "**ARMA (3,1):**\n",
    "> * The prediction MSE is 168192.9\n",
    "> * The prediction RMSE is 410.11\n",
    "> * The prediction MAPE is 28.4\n",
    "\n",
    "**ARIMA (6,0,4):**\n",
    "> * The prediction MSE is 120137.97\n",
    "> * The prediction RMSE is 346.61\n",
    "> * The prediction MAPE is 20.1\n",
    "\n",
    "**SARIMA (0,0,1)x(1,1,0,12):**\n",
    "> * The prediction MSE is 184433.09\n",
    "> * The prediction RMSE is 429.46\n",
    "> * The prediction MAPE is 35.35\n",
    "\n",
    "**SARIMA (1,1,1)x(1,1,0,12):**\n",
    "> * The prediction MSE is 229093.55\n",
    "> * The prediction RMSE is 478.64\n",
    "> * The prediction MAPE is 47.48\n",
    "\n",
    "\n",
    "**SARIMAX (1,1,1)x(1,1,0,12):**\n",
    "> * The prediction MSE is 231232.42\n",
    "> * The prediction RMSE is 480.87\n",
    "> * The prediction MAPE is 47.99\n",
    "\n",
    "**Prophet:**\n",
    "> * The prediction MSE is 105965.29\n",
    "> * The prediction RMSE is 325.52\n",
    "> * The prediction MAPE is 26.45\n",
    "\n",
    "**Stacked LSTM:**\n",
    "> * The prediction MSE is 155874.09\n",
    "> * The prediction RMSE is 394.81\n",
    "> * The prediction MAPE is 35.56\n",
    "\n",
    "**Differentiated LSTM:**\n",
    "> * The prediction MSE is 377007.27\n",
    "> * The prediction RMSE is 614.01\n",
    "> * The prediction MAPE is 57.85\n",
    "\n",
    "**Bidirectional LSTM:**\n",
    "> * The prediction MSE is 132553.55\n",
    "> * The prediction RMSE is 364.08\n",
    "> * The prediction MAPE is 25.86\n",
    "\n",
    "**Autoregressive RNN:**\n",
    "> * The prediction MSE is \n",
    "> * The prediction RMSE is \n",
    "> * The prediction MAPE is \n"
   ]
  },
  {
   "cell_type": "markdown",
   "metadata": {
    "colab_type": "text",
    "id": "XoSCKdGEZvvt"
   },
   "source": [
    "##Part 6:"
   ]
  }
 ],
 "metadata": {
  "accelerator": "GPU",
  "colab": {
   "collapsed_sections": [],
   "name": "[Portfolio] Sales Time Series 5.ipynb",
   "provenance": [
    {
     "file_id": "1jnuhjEzt45jCsp4bx_JmhJ61gh1xbFkD",
     "timestamp": 1589144665969
    }
   ]
  },
  "kernelspec": {
   "display_name": "Python 3",
   "language": "python",
   "name": "python3"
  },
  "language_info": {
   "codemirror_mode": {
    "name": "ipython",
    "version": 3
   },
   "file_extension": ".py",
   "mimetype": "text/x-python",
   "name": "python",
   "nbconvert_exporter": "python",
   "pygments_lexer": "ipython3",
   "version": "3.7.7"
  },
  "toc": {
   "base_numbering": 1,
   "nav_menu": {
    "height": "436px",
    "width": "256px"
   },
   "number_sections": true,
   "sideBar": false,
   "skip_h1_title": false,
   "title_cell": "Table of Contents",
   "title_sidebar": "Contents",
   "toc_cell": true,
   "toc_position": {},
   "toc_section_display": true,
   "toc_window_display": false
  }
 },
 "nbformat": 4,
 "nbformat_minor": 1
}
